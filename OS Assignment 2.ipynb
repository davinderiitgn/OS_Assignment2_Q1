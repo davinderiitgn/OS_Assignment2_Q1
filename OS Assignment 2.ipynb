{
 "cells": [
  {
   "cell_type": "code",
   "execution_count": 2,
   "metadata": {},
   "outputs": [
    {
     "data": {
      "image/png": "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\n",
      "text/plain": [
       "<matplotlib.figure.Figure at 0x1c6f814a4e0>"
      ]
     },
     "metadata": {},
     "output_type": "display_data"
    }
   ],
   "source": [
    "This function creates a random workload"
    "import sys\n",
    "import random\n",
    "import pandas as pd\n",
    "import time\n",
    "import matplotlib.pyplot as plt\n",
    "import numpy as np\n",
    "workload = []\n",
    "nnty_ = []\n",
    "ten_ = []\n",
    "random.seed(time.time())\n",
    "\n",
    "while len(ten_)<10:\n",
    "    rand_int = random.randint(1,100)\n",
    "    if rand_int not in ten_:\n",
    "        ten_.append(rand_int)\n",
    "\n",
    "while len(nnty_)<90:\n",
    "    rand_int = rand_int = random.randint(1,100)\n",
    "    if rand_int not in ten_ and rand_int not in nnty_:\n",
    "        nnty_.append(rand_int)\n",
    "for _ in range(100):\n",
    "    rint = random.choice(nnty_)\n",
    "    workload.append(rint)\n",
    "tmp = []\n",
    "for _ in range(900):\n",
    "    rint = random.choice(ten_)\n",
    "    tmp.append(rint)\n",
    "    workload.append(rint)\n",
    "    \n",
    "plt.hist(workload,bins=100)\n",
    "plt.xlabel(\"Pages\")\n",
    "plt.ylabel(\"Frequency\")\n",
    "plt.show()"
   ]
  },
  {
   "cell_type": "code",
   "execution_count": 110,
   "metadata": {},
   "outputs": [
    {
     "name": "stdout",
     "output_type": "stream",
     "text": [
      "Hit Rate: 0.902\n",
      "Miss Rate: 0.098\n"
     ]
    }
   ],
   "source": [
    "def FIFO(workload,cache_size):\n",
    "    free = cache_size #Indicates whether I have space left in Cache or Not #Initially whole Cache is free\n",
    "    cache = [] #Will store pages in it\n",
    "    HIT = 0 #Store the number of Hits\n",
    "    MISS = 0 #Store the number of Misses\n",
    "    for page in workload:\n",
    "        if page in cache:\n",
    "            HIT += 1\n",
    "        else:\n",
    "            MISS += 1\n",
    "            if free!=0:\n",
    "                cache.append(page) #add page to Cache\n",
    "                free = free-1\n",
    "            else:\n",
    "                cache.pop(0) # Remove the page which was added first\n",
    "                cache.append(page)\n",
    "            \n",
    "    return (HIT,MISS)\n",
    "                \n",
    "HITS,MISS = FIFO(workload,10)\n",
    "\n",
    "HitRate = HITS/(HITS+MISS)\n",
    "MissRate = MISS/(HITS+MISS)\n",
    "print(\"Hit Rate:\",HitRate)\n",
    "print(\"Miss Rate:\",MissRate)"
   ]
  },
  {
   "cell_type": "code",
   "execution_count": 114,
   "metadata": {},
   "outputs": [
    {
     "name": "stdout",
     "output_type": "stream",
     "text": [
      "Hit Rate: 0.921\n",
      "Miss Rate: 0.079\n"
     ]
    }
   ],
   "source": [
    "def ORACLE(workload, cache_size):\n",
    "    cache = []\n",
    "    HIT = 0\n",
    "    MISS = 0\n",
    "    occurence = {}\n",
    "    for i in range(len(workload)):\n",
    "        try:\n",
    "            occurence[workload[i]].append(i)\n",
    "        except:\n",
    "            occurence[workload[i]] = [i]\n",
    "    for page in workload:\n",
    "        if page in cache:\n",
    "            HIT += 1\n",
    "        else:\n",
    "            MISS += 1\n",
    "            if len(cache) < cache_size:\n",
    "                cache.append(page)\n",
    "            else:\n",
    "                furthest=-1\n",
    "                flag = 0\n",
    "                for c_page in cache:\n",
    "                    if occurence[c_page]==[]:\n",
    "                        cache.remove(c_page)\n",
    "                        cache.append(page)\n",
    "                        flag = 1\n",
    "                    else:\n",
    "                        if furthest==-1:\n",
    "                            furthest = c_page\n",
    "                        else: \n",
    "                            if occurence[c_page][0]>occurence[furthest][0]:\n",
    "                                furthest = c_page\n",
    "                if flag==0:\n",
    "                    cache.remove(furthest)\n",
    "                    cache.append(page)\n",
    "        occurence[page].pop(0)\n",
    "    return (HIT,MISS)\n",
    "\n",
    "Hit,Miss = ORACLE(workload,20)\n",
    "HitRate = Hit/(Hit+Miss)\n",
    "MissRate = Miss/(Hit+Miss)\n",
    "\n",
    "print(\"Hit Rate:\",HitRate)\n",
    "print(\"Miss Rate:\",MissRate)"
   ]
  },
  {
   "cell_type": "code",
   "execution_count": 115,
   "metadata": {},
   "outputs": [
    {
     "name": "stdout",
     "output_type": "stream",
     "text": [
      "Hit Rate: 0.902\n",
      "Miss Rate: 0.098\n"
     ]
    }
   ],
   "source": [
    "def LRU(workload,cache_size):\n",
    "    free = cache_size #Indicates whether I have space left in Cache or Not #Initially whole Cache is free\n",
    "    cache = [] #Will store pages in it\n",
    "    HIT = 0 #Store the number of Hits\n",
    "    MISS = 0 #Store the number of Misses\n",
    "    for page in workload:\n",
    "        if page in cache:\n",
    "            HIT += 1\n",
    "            cache.remove(page)\n",
    "            cache.append(page)\n",
    "        else:\n",
    "            MISS += 1\n",
    "            if free!=0:\n",
    "                cache.append(page) #add page to Cache\n",
    "                free = free-1\n",
    "            else:\n",
    "                cache.pop(0) # Remove the page which was least recently used\n",
    "                cache.append(page)\n",
    "            \n",
    "    return (HIT,MISS)\n",
    "                \n",
    "HITS,MISS = FIFO(workload,10)\n",
    "\n",
    "HitRate = HITS/(HITS+MISS)\n",
    "MissRate = MISS/(HITS+MISS)\n",
    "\n",
    "print(\"Hit Rate:\",HitRate)\n",
    "print(\"Miss Rate:\",MissRate)"
   ]
  },
  {
   "cell_type": "code",
   "execution_count": 39,
   "metadata": {},
   "outputs": [
    {
     "data": {
      "image/png": "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\n",
      "text/plain": [
       "<matplotlib.figure.Figure at 0x1c6f85b4278>"
      ]
     },
     "metadata": {},
     "output_type": "display_data"
    }
   ],
   "source": [
    "import sys\n",
    "import random\n",
    "import pandas as pd\n",
    "import time\n",
    "import matplotlib.pyplot as plt\n",
    "import numpy as np\n",
    "def r_replacement(workload,seed, cache_size):\n",
    "    random.seed(seed)\n",
    "    cache_content = []\n",
    "    hit_count = 0\n",
    "    miss_count = 0\n",
    "    #print(\"Iteration\", \"page\", \"cache_content (after)\")\n",
    "    for iteration, page in enumerate(workload):\n",
    "        if page in cache_content:\n",
    "            # Hit!\n",
    "            #print(\"Cache hit!\")\n",
    "            hit_count +=1\n",
    "        else:\n",
    "            miss_count +=1\n",
    "            #print(\"Cache miss!\")\n",
    "            if len(cache_content) < cache_size:\n",
    "                cache_content.append(page)\n",
    "            else:\n",
    "                # Need to evict\n",
    "                page_evict = random.choice(cache_content)\n",
    "                #print(\"Removing {}\".format(page_evict))\n",
    "                cache_content.remove(page_evict)\n",
    "                cache_content.append(page)\n",
    "                assert(len(cache_content)==cache_size)\n",
    "        #print(iteration, page, cache_content)\n",
    "\n",
    "    #print(\"Hit count for seed {} is {}\".format(seed, hit_count))\n",
    "    assert(hit_count+miss_count==len(workload))\n",
    "    return float(hit_count)/(hit_count+miss_count) #return the hit rate\n",
    "\n",
    "cache_size = 3\n",
    "hit_seed = {}\n",
    "for seed in range(1000):\n",
    "    hit_seed[seed] = r_replacement(workload,seed,cache_size)\n",
    "\n",
    "seeds = list(hit_seed.keys())\n",
    "hit_rates = list(hit_seed.values())\n",
    "hit_rate_mean = np.mean(np.array(hit_rates))\n",
    "hit_rate_std_dev = np.std(np.array(hit_rates))\n",
    "\n",
    "      \n",
    "fig,ax = plt.subplots()\n",
    "\n",
    "data_line = ax.plot(seeds,hit_rates, label='Data', marker='o')\n",
    "\n",
    "mean_line = ax.plot(seeds,[hit_rate_mean]*1000, label='Mean', linestyle='--')\n",
    "\n",
    "std_line = ax.plot(seeds,[hit_rate_std_dev]*1000, label='Standard Deviation', linestyle='-')\n",
    "\n",
    "legend = ax.legend(loc='upper right')\n",
    "\n",
    "plt.show()\n"
   ]
  },
  {
   "cell_type": "code",
   "execution_count": 122,
   "metadata": {},
   "outputs": [
    {
     "data": {
      "image/png": "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\n",
      "text/plain": [
       "<matplotlib.figure.Figure at 0x1c6f9cda550>"
      ]
     },
     "metadata": {},
     "output_type": "display_data"
    }
   ],
   "source": [
    "cache_size =  [1,2, 3]\n",
    "cache_size += list(range(5,105,5))\n",
    "Hit_Rates_ORACLE = []\n",
    "Hit_Rates_LRU = []\n",
    "Hit_Rates_FIFO = []\n",
    "Hit_Rates_Random = []\n",
    "for i in cache_size:\n",
    "    hm = ORACLE(workload,i)\n",
    "    Hit_Rates_ORACLE.append(hm[0]/(hm[0]+hm[1]))\n",
    "    hm = LRU(workload,i)\n",
    "    Hit_Rates_LRU.append(hm[0]/(hm[0]+hm[1]))\n",
    "    hm = FIFO(workload,i)\n",
    "    Hit_Rates_FIFO.append(hm[0]/(hm[0]+hm[1]))\n",
    "    Hit_Rates_Random.append(r_replacement(workload,10,i))\n",
    "plt.plot(cache_size, Hit_Rates_ORACLE, 'b-', cache_size, Hit_Rates_LRU, 'g-', cache_size, Hit_Rates_FIFO, 'y-', cache_size , Hit_Rates_Random, 'r-')\n",
    "plt.show()"
   ]
  }
 ],
 "metadata": {
  "kernelspec": {
   "display_name": "Python 3",
   "language": "python",
   "name": "python3"
  },
  "language_info": {
   "codemirror_mode": {
    "name": "ipython",
    "version": 3
   },
   "file_extension": ".py",
   "mimetype": "text/x-python",
   "name": "python",
   "nbconvert_exporter": "python",
   "pygments_lexer": "ipython3",
   "version": "3.6.4"
  }
 },
 "nbformat": 4,
 "nbformat_minor": 2
}
